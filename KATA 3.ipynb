{
 "cells": [
  {
   "cell_type": "code",
   "execution_count": null,
   "metadata": {},
   "outputs": [],
   "source": []
  },
  {
   "cell_type": "markdown",
   "metadata": {},
   "source": [
    "EJERCICIO - ESCRIBIR DECLARACIONES IF, ELSE, Y ELIF"
   ]
  },
  {
   "cell_type": "code",
   "execution_count": 4,
   "metadata": {},
   "outputs": [
    {
     "name": "stdout",
     "output_type": "stream",
     "text": [
      "UN ASTEROIDE EXCEDIO EL LIMITE DE LA VELOCIDAD NORMAL\n"
     ]
    }
   ],
   "source": [
    "# Añadir el código necesario para crear una variable que guarde la velocidad del asteroide.\n",
    "asteroide = 49 #el asteroide viaja a una velocidad de 49 km/s\n",
    "\n",
    "# Escribe una expresión de prueba para calcular si necesita una advertencia.\n",
    "if asteroide > 25:\n",
    "    print('UN ASTEROIDE EXCEDIO EL LIMITE DE LA VELOCIDAD NORMAL' )\n",
    "# Agregue las instrucciones que se ejecutarán si la expresión de prueba es true o false.\n",
    "else:\n",
    "    print('SIN ANOMALIAS')"
   ]
  },
  {
   "cell_type": "code",
   "execution_count": 9,
   "metadata": {},
   "outputs": [
    {
     "name": "stdout",
     "output_type": "stream",
     "text": [
      "SIN ANOMALIAS\n"
     ]
    }
   ],
   "source": [
    "# Agrega el código para crear una variable para un asteroide que viaja a 19 km/s\n",
    "asteroide = 19\n",
    "# Escribe varias expresiones de prueba para determinar si puedes ver el rayo de luz desde la tierra\n",
    "if asteroide > 20:\n",
    "    print('ADVERTENCIA - Rayo de luz en el cielo')\n",
    "elif asteroide == 20:\n",
    "    print('ADVERTENCIA - Rayo de luz en el cielo')\n",
    "# Agrega las instrucciones que se ejecutarán si las expresiones de prueba son True o False\n",
    "else:\n",
    "    print('SIN ANOMALIAS') "
   ]
  },
  {
   "cell_type": "markdown",
   "metadata": {},
   "source": [
    "EJERCICIO: USO DE OPERADORES AND Y OR"
   ]
  },
  {
   "cell_type": "code",
   "execution_count": 10,
   "metadata": {},
   "outputs": [
    {
     "name": "stdout",
     "output_type": "stream",
     "text": [
      "ADVERTENCIA - Rayo de luz en el cielo\n"
     ]
    }
   ],
   "source": [
    "# Agrega el código para crear nuevas variables para la velocidad y el tamaño del asteroide\n",
    "vasteroide = 25 #velocidad del asteoide\n",
    "tasteroide = 40 #tamaño del asteroide\n",
    "# Para probar el código, prueba con varias velocidades y tamaños\n",
    "if vasteroide > 25 and tasteroide > 25:\n",
    "    print('UN ASTEROIDE EXCEDIO EL LIMITE DE LA VELOCIDAD NORMAL')\n",
    "elif vasteroide >= 20:\n",
    "    print('ADVERTENCIA - Rayo de luz en el cielo')\n",
    "elif tasteroide < 25:\n",
    "    print('SIN ANOMALIAS')\n",
    "else:\n",
    "    print('SIN ANOMALIAS')\n"
   ]
  }
 ],
 "metadata": {
  "interpreter": {
   "hash": "33541a670e8887513ebdf0f19cec6625b51694c5ef6b1c7e83282c54d5cd54e5"
  },
  "kernelspec": {
   "display_name": "Python 3.10.2 64-bit",
   "language": "python",
   "name": "python3"
  },
  "language_info": {
   "codemirror_mode": {
    "name": "ipython",
    "version": 3
   },
   "file_extension": ".py",
   "mimetype": "text/x-python",
   "name": "python",
   "nbconvert_exporter": "python",
   "pygments_lexer": "ipython3",
   "version": "3.10.2"
  },
  "orig_nbformat": 4
 },
 "nbformat": 4,
 "nbformat_minor": 2
}
