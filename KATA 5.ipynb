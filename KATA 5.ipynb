{
 "cells": [
  {
   "cell_type": "code",
   "execution_count": null,
   "metadata": {},
   "outputs": [],
   "source": []
  },
  {
   "cell_type": "markdown",
   "metadata": {},
   "source": [
    "EJERCICIO 1. UTILIZAR OPERADORES ARITMETICOS"
   ]
  },
  {
   "cell_type": "code",
   "execution_count": 1,
   "metadata": {},
   "outputs": [
    {
     "name": "stdout",
     "output_type": "stream",
     "text": [
      "La distancia en kilometros es:628949330\n",
      "La distancia en millas es:390577533.93\n"
     ]
    }
   ],
   "source": [
    "# Crear variables para almacenar las dos distancias\n",
    "Dtierra = 149597870 #km\n",
    "Djupiter = 778547200 #km\n",
    "\n",
    "# Calcular la distancia entre planetas\n",
    "Dplanet = Djupiter - Dtierra #Distancia entre los planetas en kilometros\n",
    "Dplanetmil = Dplanet * 0.621\n",
    "print('La distancia en kilometros es:' + str (Dplanet) )\n",
    "print('La distancia en millas es:' + str (Dplanetmil) )"
   ]
  },
  {
   "cell_type": "markdown",
   "metadata": {},
   "source": [
    "Ejercicio 2: convierte cadenas en números y usa valores absolutos"
   ]
  },
  {
   "cell_type": "code",
   "execution_count": 5,
   "metadata": {},
   "outputs": [
    {
     "name": "stdout",
     "output_type": "stream",
     "text": [
      "53\n",
      "32.913\n"
     ]
    }
   ],
   "source": [
    "# Almacenar las entradas del usuario\n",
    "planeta1 = input (\"INTRODUCE UNA DISTANCIA DEL SOL AL PLANETA EN KM\")\n",
    "planeta2 = input (\"INTRODUCE UNA DISTANCIA DEL SOL AL PLANETA EN KM\")\n",
    "\n",
    "# Convierte las cadenas de ambos planetas a números enteros\n",
    "planeta1 = int(planeta1)\n",
    "planeta2 = int(planeta2)\n",
    "\n",
    "# Realizar el cálculo y determinar el valor absoluto\n",
    "distancia = planeta2 - planeta1 #distancia de los planetas en kilometros\n",
    "print(distancia)\n",
    "\n",
    "# Convertir de KM a Millas\n",
    "distanciamilla = distancia * 0.621\n",
    "print( abs (distanciamilla))"
   ]
  }
 ],
 "metadata": {
  "interpreter": {
   "hash": "33541a670e8887513ebdf0f19cec6625b51694c5ef6b1c7e83282c54d5cd54e5"
  },
  "kernelspec": {
   "display_name": "Python 3.10.2 64-bit",
   "language": "python",
   "name": "python3"
  },
  "language_info": {
   "codemirror_mode": {
    "name": "ipython",
    "version": 3
   },
   "file_extension": ".py",
   "mimetype": "text/x-python",
   "name": "python",
   "nbconvert_exporter": "python",
   "pygments_lexer": "ipython3",
   "version": "3.10.2"
  },
  "orig_nbformat": 4
 },
 "nbformat": 4,
 "nbformat_minor": 2
}
