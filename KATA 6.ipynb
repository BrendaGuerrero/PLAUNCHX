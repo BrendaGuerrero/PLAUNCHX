{
 "cells": [
  {
   "cell_type": "code",
   "execution_count": null,
   "metadata": {},
   "outputs": [],
   "source": []
  },
  {
   "cell_type": "markdown",
   "metadata": {},
   "source": [
    "EJERCICIO 1: CREAR Y USAR LISTAS DE PYTHON"
   ]
  },
  {
   "cell_type": "code",
   "execution_count": 14,
   "metadata": {},
   "outputs": [
    {
     "name": "stdout",
     "output_type": "stream",
     "text": [
      "Los planetas del sistema son: 8 planetas\n",
      "['Mercurio', 'Venus', 'Tierra', 'Marte', 'Jupiter', 'Saturno', 'Urano', 'Neptuno', 'Pluton']\n",
      "Pluton es el ultimo planeta de la lista\n"
     ]
    }
   ],
   "source": [
    "# Creamos la lista planets y la mostramos\n",
    "planets = [ \"Mercurio\", \"Venus\", \"Tierra\", \"Marte\", \"Jupiter\", \"Saturno\", \"Urano\", \"Neptuno\" ]\n",
    "print('Los planetas del sistema son:', len(planets), 'planetas') #los planetas sin contar a Pluton\n",
    "\n",
    "# Agregamos a plutón y mostramos el último elemento\n",
    "planets.append(\"Pluton\")\n",
    "print (planets)\n",
    "print (planets [-1], 'es el ultimo planeta de la lista' )\n",
    "\n",
    "\n"
   ]
  },
  {
   "cell_type": "markdown",
   "metadata": {},
   "source": [
    "EJERCICIO 2: TRABAJANDO CON DATOS DE UNA LISTA"
   ]
  },
  {
   "cell_type": "code",
   "execution_count": 27,
   "metadata": {},
   "outputs": [
    {
     "name": "stdout",
     "output_type": "stream",
     "text": [
      "3\n",
      "Los planetas mas cercanos al sol son antes de  Marte\n",
      "['Mercurio', 'Venus', 'Tierra']\n",
      "Los planetas mas alejanos al Sol apartir de  Marte\n",
      "['Jupiter', 'Saturno', 'Neptuno']\n"
     ]
    }
   ],
   "source": [
    "# Lista de planetas\n",
    "planetas = [ 'Mercurio', 'Venus', 'Tierra', 'Marte', 'Jupiter', 'Saturno', 'Neptuno']\n",
    "\n",
    "# Solicitamos el nombre de un planeta \n",
    "NP = input (\"PORFAVOR INTRODUCE EL NOMBRE DE UNO DE LOS 7 PLANETAS, OJO: LA PRIMERA LETRA EN MAYUSCULA \")\n",
    "\n",
    "# Busca el planeta en la lista (se busca el indice del planeta)\n",
    "PS = planetas.index(NP)\n",
    "print (PS)\n",
    "\n",
    "# Muestra los planetas más cercanos al sol\n",
    "print(\"Los planetas mas cercanos al sol antes de  \" + NP)\n",
    "print(planetas[0:PS])\n",
    "\n",
    "# Muestra los planetas más lejanos al sol\n",
    "print(\"Los planetas mas alejanos al Sol apartir de  \" + NP)\n",
    "print(planetas[PS + 1:])\n",
    "\n",
    "\n",
    "\n"
   ]
  }
 ],
 "metadata": {
  "interpreter": {
   "hash": "33541a670e8887513ebdf0f19cec6625b51694c5ef6b1c7e83282c54d5cd54e5"
  },
  "kernelspec": {
   "display_name": "Python 3.10.2 64-bit",
   "language": "python",
   "name": "python3"
  },
  "language_info": {
   "codemirror_mode": {
    "name": "ipython",
    "version": 3
   },
   "file_extension": ".py",
   "mimetype": "text/x-python",
   "name": "python",
   "nbconvert_exporter": "python",
   "pygments_lexer": "ipython3",
   "version": "3.10.2"
  },
  "orig_nbformat": 4
 },
 "nbformat": 4,
 "nbformat_minor": 2
}
