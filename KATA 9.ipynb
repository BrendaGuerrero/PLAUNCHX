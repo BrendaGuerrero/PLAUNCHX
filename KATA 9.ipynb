{
 "cells": [
  {
   "cell_type": "code",
   "execution_count": null,
   "metadata": {},
   "outputs": [],
   "source": []
  },
  {
   "cell_type": "markdown",
   "metadata": {},
   "source": [
    "EJERCICIO: USO DE FUNCIONES EN PYTHON Ejercicio 1: Trabajar con argumentos en funciones.\n"
   ]
  },
  {
   "cell_type": "code",
   "execution_count": 3,
   "metadata": {},
   "outputs": [
    {
     "name": "stdout",
     "output_type": "stream",
     "text": [
      "COMBUSTIBLE EN TANQUE: \n",
      "        promediotan: 33.333333333333336%\n",
      "        tanque 1 50%\n",
      "        tanque 2 30%\n",
      "        tanque 3 20%\n",
      "        \n"
     ]
    }
   ],
   "source": [
    "# Función para leer 3 tanques de combustible y muestre el promedio\n",
    "def reporte(tanque1, tanque2, tanque3):\n",
    "    promediotan = (tanque1 + tanque2 + tanque3) / 3\n",
    "    #FUNCIÓN PARA LEER LOS TRES TANQUE\n",
    "    return f\"\"\"COMBUSTIBLE EN TANQUE: \n",
    "        promediotan: {promediotan}%\n",
    "        tanque 1 {tanque1}%\n",
    "        tanque 2 {tanque2}%\n",
    "        tanque 3 {tanque3}%\n",
    "        \"\"\"\n",
    "# Llamamos a la función que genera el reporte print(funcion(tanque1, tanque2, tanque3))\n",
    "print(reporte(50,30,20) ) #los tanques no estan llenos \n",
    "\n",
    "# Función promedio \n",
    "def promedio2(n):\n",
    "    total = sum(n)\n",
    "    totaln = len(n)\n",
    "    return total / totaln\n",
    "\n",
    "# Actualiza la función\n",
    "def reporte(tanque1, tanque2, tanque3):\n",
    "    return f\"\"\"COMBUSTIBLE EN TANQUE: \n",
    "     promediotan2: {promedio2}%\n",
    "     tanque 1 {tanque1}%\n",
    "     tanque 2 {tanque2}%\n",
    "     tanque 3 {tanque3}%\n",
    "     \"\"\"\n",
    "     \n",
    "\n"
   ]
  },
  {
   "cell_type": "markdown",
   "metadata": {},
   "source": [
    "EJERCICIO 2: TRABAJO CON ARGUMENTOS DE PALABRAS CLAVE\n",
    "Ejercicio: Trabajar con argumentos de palabras clave funciones"
   ]
  },
  {
   "cell_type": "code",
   "execution_count": 7,
   "metadata": {},
   "outputs": [
    {
     "name": "stdout",
     "output_type": "stream",
     "text": [
      "\n",
      "    Misión a Moon\n",
      "    Tiempo de vuelo: 28 minutos\n",
      "    Combustible en tanque: 500 \n",
      "    \n"
     ]
    }
   ],
   "source": [
    "# Función con un informe preciso de la misión. Considera hora de prelanzamiento, tiempo de vuelo, destino, tanque externo y tanque interno\n",
    "def reportec(hprelanzamiento, tiempovuelo, destino, tanqueext, tanqueint):\n",
    "    return f\"\"\"\n",
    "    Misión a {destino}\n",
    "    Tiempo de vuelo: {hprelanzamiento + tiempovuelo} minutos\n",
    "    Combustible en tanque: {tanqueext + tanqueint} \n",
    "    \"\"\"\n",
    "\n",
    "print(reportec(15, 13, \"Moon\", 200, 300)) \n",
    "\n",
    "# Escribe tu nueva función de reporte considerando lo anterior\n",
    "def reportec(destino, *minutos, **combustible2):\n",
    "    reporte2m = f\"\"\"\n",
    "    misión a {destino}\n",
    "    Tiempo de viaje: {sum(minutos)} minutos\n",
    "    Combustible: {sum(combustible2.values())}\n",
    "    \"\"\"\n"
   ]
  }
 ],
 "metadata": {
  "interpreter": {
   "hash": "33541a670e8887513ebdf0f19cec6625b51694c5ef6b1c7e83282c54d5cd54e5"
  },
  "kernelspec": {
   "display_name": "Python 3.10.2 64-bit",
   "language": "python",
   "name": "python3"
  },
  "language_info": {
   "codemirror_mode": {
    "name": "ipython",
    "version": 3
   },
   "file_extension": ".py",
   "mimetype": "text/x-python",
   "name": "python",
   "nbconvert_exporter": "python",
   "pygments_lexer": "ipython3",
   "version": "3.10.2"
  },
  "orig_nbformat": 4
 },
 "nbformat": 4,
 "nbformat_minor": 2
}
